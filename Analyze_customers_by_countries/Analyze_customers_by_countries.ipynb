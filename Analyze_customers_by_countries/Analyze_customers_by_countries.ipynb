{
 "cells": [
  {
   "cell_type": "code",
   "execution_count": 3,
   "id": "23e67556-5ffc-4483-8d78-74c198cc46cf",
   "metadata": {},
   "outputs": [],
   "source": [
    "# pip install mysql.connector"
   ]
  },
  {
   "cell_type": "code",
   "execution_count": 43,
   "id": "5440bf2b-6d37-4009-8002-7fd446ea70f7",
   "metadata": {},
   "outputs": [],
   "source": [
    "# استيراد المكتبات اللازمة للعمل مع البيانات وتحليلها\n",
    "\n",
    "import pandas as pd  # مكتبة لتحليل البيانات ومعالجتها بسهولة\n",
    "import matplotlib.pyplot as plt  # مكتبة لرسم المخططات البيانية\n",
    "import mysql.connector  # مكتبة للتعامل مع قواعد بيانات MySQL"
   ]
  },
  {
   "cell_type": "code",
   "execution_count": 14,
   "id": "5a47e5c7-6793-464c-b1ac-3690899ac12c",
   "metadata": {},
   "outputs": [],
   "source": [
    "# تعريف دالة لإنشاء اتصال بقاعدة البيانات\n",
    "def make_connection_with_db():\n",
    "    # إنشاء اتصال بقاعدة البيانات باستخدام mysql.connector\n",
    "    connection_mydb = mysql.connector.connect(\n",
    "        host='localhost',    # اسم المضيف (السيرفر) حيث توجد قاعدة البيانات\n",
    "        user='root',         # اسم المستخدم لقاعدة البيانات\n",
    "        password='',         # كلمة المرور (في هذه الحالة، لا توجد كلمة مرور)\n",
    "        database='wp-ecommerce'  # اسم قاعدة البيانات التي سيتم الاتصال بها\n",
    "    )\n",
    "    \n",
    "    # إنشاء كائن المؤشر لتنفيذ الاستعلامات على قاعدة البيانات\n",
    "    # تم تعيين dictionary=True ليكون الإخراج على شكل قاموس بدلاً من قائمة\n",
    "    cursor = connection_mydb.cursor(dictionary=True)\n",
    "    \n",
    "    # إرجاع كلاً من الاتصال وكائن المؤشر\n",
    "    return connection_mydb, cursor"
   ]
  },
  {
   "cell_type": "code",
   "execution_count": 23,
   "id": "ece620b7-a273-4bb1-89a1-71d6a8fd4f4e",
   "metadata": {},
   "outputs": [],
   "source": [
    "def get_customers_by_country():\n",
    "    # إنشاء اتصال بقاعدة البيانات واسترجاع الكيرسور (المؤشر)\n",
    "    _, cursor = make_connection_with_db()\n",
    "    \n",
    "    # تعريف استعلام SQL لجلب عدد العملاء في كل دولة\n",
    "    sql = '''SELECT country, count(customer_id) as count_by_country \n",
    "             FROM wp_wc_customer_lookup \n",
    "             GROUP BY country'''\n",
    "    \n",
    "    # تنفيذ الاستعلام\n",
    "    cursor.execute(sql)\n",
    "    \n",
    "    # جلب جميع النتائج من قاعدة البيانات\n",
    "    customers_results = cursor.fetchall()\n",
    "    \n",
    "    # إنشاء DataFrame فارغ لإدخال البيانات المسترجعة فيه\n",
    "    df = pd.DataFrame(columns=['country', 'count_by_country'])\n",
    "    \n",
    "    # تمرير نتائج الاستعلام وإضافتها إلى DataFrame\n",
    "    for customer in customers_results:\n",
    "        obj = {\n",
    "            \"country\": [customer['country']],  # اسم الدولة\n",
    "            \"count_by_country\": [customer['count_by_country']]  # عدد العملاء في تلك الدولة\n",
    "        }\n",
    "        df_obj = pd.DataFrame(obj)  # تحويل القيم إلى DataFrame مؤقت\n",
    "        df = pd.concat([df, df_obj], ignore_index=True)  # دمج البيانات مع DataFrame الرئيسي\n",
    "    \n",
    "    return df  # إرجاع DataFrame النهائي الذي يحتوي على عدد العملاء لكل دولة"
   ]
  },
  {
   "cell_type": "code",
   "execution_count": 25,
   "id": "6b913879-1999-4e3a-bfe9-b9c58f8254c3",
   "metadata": {},
   "outputs": [
    {
     "data": {
      "text/html": [
       "<div>\n",
       "<style scoped>\n",
       "    .dataframe tbody tr th:only-of-type {\n",
       "        vertical-align: middle;\n",
       "    }\n",
       "\n",
       "    .dataframe tbody tr th {\n",
       "        vertical-align: top;\n",
       "    }\n",
       "\n",
       "    .dataframe thead th {\n",
       "        text-align: right;\n",
       "    }\n",
       "</style>\n",
       "<table border=\"1\" class=\"dataframe\">\n",
       "  <thead>\n",
       "    <tr style=\"text-align: right;\">\n",
       "      <th></th>\n",
       "      <th>country</th>\n",
       "      <th>count_by_country</th>\n",
       "    </tr>\n",
       "  </thead>\n",
       "  <tbody>\n",
       "    <tr>\n",
       "      <th>0</th>\n",
       "      <td>KW</td>\n",
       "      <td>188</td>\n",
       "    </tr>\n",
       "    <tr>\n",
       "      <th>1</th>\n",
       "      <td>JO</td>\n",
       "      <td>187</td>\n",
       "    </tr>\n",
       "    <tr>\n",
       "      <th>2</th>\n",
       "      <td>AE</td>\n",
       "      <td>209</td>\n",
       "    </tr>\n",
       "    <tr>\n",
       "      <th>3</th>\n",
       "      <td>SA</td>\n",
       "      <td>179</td>\n",
       "    </tr>\n",
       "    <tr>\n",
       "      <th>4</th>\n",
       "      <td>BH</td>\n",
       "      <td>218</td>\n",
       "    </tr>\n",
       "  </tbody>\n",
       "</table>\n",
       "</div>"
      ],
      "text/plain": [
       "  country count_by_country\n",
       "0      KW              188\n",
       "1      JO              187\n",
       "2      AE              209\n",
       "3      SA              179\n",
       "4      BH              218"
      ]
     },
     "execution_count": 25,
     "metadata": {},
     "output_type": "execute_result"
    }
   ],
   "source": [
    "df_customers_countries = get_customers_by_country()\n",
    "\n",
    "df_customers_countries  # show Data frame"
   ]
  },
  {
   "cell_type": "code",
   "execution_count": 33,
   "id": "8620492f-25ef-44ac-889a-d317e62d4dcf",
   "metadata": {},
   "outputs": [],
   "source": [
    "def show_customers_by_country_bar():\n",
    "    # استيراد مكتبة NumPy لاستخدام الألوان العشوائية\n",
    "    import numpy as np\n",
    "    \n",
    "    # جلب بيانات عدد العملاء في كل دولة\n",
    "    df_customers_countries = get_customers_by_country()\n",
    "\n",
    "    # استخراج أسماء الدول وعدد العملاء لكل دولة\n",
    "    x = df_customers_countries['country']\n",
    "    y = df_customers_countries['count_by_country']\n",
    "\n",
    "    # تحديد عنوان المخطط\n",
    "    plt.title('Customers per Country')\n",
    "\n",
    "    # تسمية المحاور\n",
    "    plt.xlabel(\"Country\")\n",
    "    plt.ylabel(\"Count\")\n",
    "\n",
    "    # إنشاء قائمة للألوان العشوائية لكل عمود في المخطط\n",
    "    colors = []\n",
    "    for i in range(len(x)):\n",
    "        colors.append([np.random.rand(), np.random.rand(), np.random.rand()])\n",
    "        \n",
    "        # إضافة النصوص فوق كل عمود لعرض عدد العملاء\n",
    "        plt.text(x=i, y=y[i], s=y[i])\n",
    "\n",
    "    # رسم المخطط باستخدام الألوان العشوائية\n",
    "    plt.bar(x, y, color=colors)\n",
    "    \n",
    "    # عرض المخطط النهائي\n",
    "    plt.show()"
   ]
  },
  {
   "cell_type": "code",
   "execution_count": 34,
   "id": "6a9d7ee4-13fb-4207-b0ee-a4105fe86505",
   "metadata": {},
   "outputs": [
    {
     "data": {
      "image/png": "[encoded data removed]",
      "text/plain": [
       "<Figure size 640x480 with 1 Axes>"
      ]
     },
     "metadata": {},
     "output_type": "display_data"
    }
   ],
   "source": [
    "show_customers_by_country_bar() # show bar"
   ]
  },
  {
   "cell_type": "code",
   "execution_count": 41,
   "id": "e15d807b-5985-4de1-8380-fede9dc74d40",
   "metadata": {},
   "outputs": [],
   "source": [
    "def show_customers_by_country_pie():\n",
    "    # جلب بيانات عدد العملاء في كل دولة\n",
    "    df_customers_countries = get_customers_by_country()\n",
    "    \n",
    "    # إنشاء مخطط دائري يمثل نسبة العملاء لكل دولة\n",
    "    plt.pie(df_customers_countries['count_by_country'], \n",
    "            labels=df_customers_countries['country'],  # تسمية كل قطعة باسم الدولة\n",
    "            autopct='%1.1f%%')  # إظهار النسبة المئوية لكل دولة\n",
    "\n",
    "    # إضافة عنوان للمخطط\n",
    "    plt.title(\"Customers per Country\")\n",
    "\n",
    "    # عرض المخطط\n",
    "    plt.show()"
   ]
  },
  {
   "cell_type": "code",
   "execution_count": 42,
   "id": "1ac774f1-ab19-4d83-a604-cd03c08ae3b0",
   "metadata": {},
   "outputs": [
    {
     "data": {
      "image/png": "[encoded data removed]",
      "text/plain": [
       "<Figure size 640x480 with 1 Axes>"
      ]
     },
     "metadata": {},
     "output_type": "display_data"
    }
   ],
   "source": [
    "show_customers_by_country_pie() # show pie"
   ]
  },
  {
   "cell_type": "code",
   "execution_count": null,
   "id": "5072e996-af61-4648-aee9-986e53df4955",
   "metadata": {},
   "outputs": [],
   "source": []
  }
 ],
 "metadata": {
  "kernelspec": {
   "display_name": "Python 3 (ipykernel)",
   "language": "python",
   "name": "python3"
  },
  "language_info": {
   "codemirror_mode": {
    "name": "ipython",
    "version": 3
   },
   "file_extension": ".py",
   "mimetype": "text/x-python",
   "name": "python",
   "nbconvert_exporter": "python",
   "pygments_lexer": "ipython3",
   "version": "3.12.7"
  }
 },
 "nbformat": 4,
 "nbformat_minor": 5
}
